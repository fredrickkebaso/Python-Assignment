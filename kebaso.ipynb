{
 "cells": [
  {
   "cell_type": "code",
   "execution_count": 8,
   "metadata": {},
   "outputs": [],
   "source": [
    "def fibonacciseq():\n",
    "    'Gives fibbonacci sequence of numbers'\n",
    "    number=int(input(\"How many Fibbonacci numbers do you want to generate \"))\n",
    "    num0 = num1 = 0\n",
    "    num2 = 1\n",
    "    while num1 < number:\n",
    "        print (num0, end= \" \")\n",
    "        num1 = num1 + 1\n",
    "        seq =  num0 + num2\n",
    "        num0 = num2\n",
    "        num2 = seq\n",
    "    "
   ]
  },
  {
   "cell_type": "code",
   "execution_count": 9,
   "metadata": {},
   "outputs": [
    {
     "name": "stdin",
     "output_type": "stream",
     "text": [
      "How many Fibbonacci numbers do you want to generate  8\n"
     ]
    },
    {
     "name": "stdout",
     "output_type": "stream",
     "text": [
      "0 1 1 2 3 5 8 13 "
     ]
    }
   ],
   "source": [
    "fibonacciseq()"
   ]
  },
  {
   "cell_type": "code",
   "execution_count": 97,
   "metadata": {},
   "outputs": [],
   "source": [
    "import os"
   ]
  },
  {
   "cell_type": "code",
   "execution_count": 18,
   "metadata": {},
   "outputs": [
    {
     "data": {
      "text/plain": [
       "'/home/icipe/interniship/python/Python4Bioinformatics2019/Notebooks'"
      ]
     },
     "execution_count": 18,
     "metadata": {},
     "output_type": "execute_result"
    }
   ],
   "source": [
    "os.getcwd()"
   ]
  },
  {
   "cell_type": "code",
   "execution_count": 11,
   "metadata": {},
   "outputs": [],
   "source": [
    "import random \n",
    "import urllib.request\n",
    "def filedownloader():\n",
    "    \"downloads files to your local machine\"\n",
    "    print(\" Beginning file download............\")\n",
    "    url = \" http://norvig.com/ngrams/sowpods.txt\"\n",
    "    urllib.request.urlretrieve(url,'/home/icipe/interniship/python/Python4Bioinformatics2019/Notebooks/sowpods.txt')\n",
    "\n",
    "def randomselector():\n",
    "    \"selects a random word from a list \"\n",
    "    with open (\"sowpods.txt\", 'r' ) as file:\n",
    "        listline=file.read().split()\n",
    "        return random.choice(listline)"
   ]
  },
  {
   "cell_type": "code",
   "execution_count": 12,
   "metadata": {},
   "outputs": [
    {
     "data": {
      "text/plain": [
       "'ABDICATIONS'"
      ]
     },
     "execution_count": 12,
     "metadata": {},
     "output_type": "execute_result"
    }
   ],
   "source": [
    "randomselector()"
   ]
  },
  {
   "cell_type": "code",
   "execution_count": 3,
   "metadata": {},
   "outputs": [],
   "source": [
    "def wordreverser():\n",
    "    \"outputs the reverse of the input string \"\n",
    "    sent=str(input(\"Enter atleast a 5 word sentence \"))\n",
    "    words = sent.split()\n",
    "    if len(words) >= 5: \n",
    "        revword=words[::-1]\n",
    "        return  \" \".join(revword)\n",
    "    else: \n",
    "        print (\"FOLLOW INSTRUCTIONS !!!!!!!, word count too low,  invoke wordreverser to try again\")"
   ]
  },
  {
   "cell_type": "code",
   "execution_count": 4,
   "metadata": {},
   "outputs": [
    {
     "name": "stdin",
     "output_type": "stream",
     "text": [
      "Enter atleast a 5 word sentence  kebaso is a good boy\n"
     ]
    },
    {
     "data": {
      "text/plain": [
       "'boy good a is kebaso'"
      ]
     },
     "execution_count": 4,
     "metadata": {},
     "output_type": "execute_result"
    }
   ],
   "source": [
    "wordreverser()"
   ]
  },
  {
   "cell_type": "markdown",
   "metadata": {},
   "source": [
    "\n",
    "    "
   ]
  },
  {
   "cell_type": "code",
   "execution_count": 5,
   "metadata": {},
   "outputs": [
    {
     "name": "stdin",
     "output_type": "stream",
     "text": [
      "Enter your guess (0-9) or 'exit' to quit  8\n"
     ]
    },
    {
     "name": "stdout",
     "output_type": "stream",
     "text": [
      "Guess too high, try again \n"
     ]
    },
    {
     "name": "stdin",
     "output_type": "stream",
     "text": [
      "Enter your guess (0-9) or 'exit' to quit  9\n"
     ]
    },
    {
     "ename": "TypeError",
     "evalue": "'>' not supported between instances of 'str' and 'int'",
     "output_type": "error",
     "traceback": [
      "\u001b[0;31m---------------------------------------------------------------------------\u001b[0m",
      "\u001b[0;31mTypeError\u001b[0m                                 Traceback (most recent call last)",
      "\u001b[0;32m<ipython-input-5-1b59fb4b1989>\u001b[0m in \u001b[0;36m<module>\u001b[0;34m\u001b[0m\n\u001b[1;32m      5\u001b[0m \u001b[0;32mwhile\u001b[0m \u001b[0mguess\u001b[0m\u001b[0;34m!=\u001b[0m\u001b[0mnum\u001b[0m\u001b[0;34m:\u001b[0m\u001b[0;34m\u001b[0m\u001b[0;34m\u001b[0m\u001b[0m\n\u001b[1;32m      6\u001b[0m     \u001b[0mtrials\u001b[0m\u001b[0;34m+=\u001b[0m\u001b[0;36m1\u001b[0m\u001b[0;34m\u001b[0m\u001b[0;34m\u001b[0m\u001b[0m\n\u001b[0;32m----> 7\u001b[0;31m     \u001b[0;32mif\u001b[0m \u001b[0mguess\u001b[0m \u001b[0;34m>\u001b[0m \u001b[0mnum\u001b[0m\u001b[0;34m:\u001b[0m\u001b[0;34m\u001b[0m\u001b[0;34m\u001b[0m\u001b[0m\n\u001b[0m\u001b[1;32m      8\u001b[0m         \u001b[0mprint\u001b[0m\u001b[0;34m(\u001b[0m\u001b[0;34m\"Guess too high, try again \"\u001b[0m\u001b[0;34m)\u001b[0m\u001b[0;34m\u001b[0m\u001b[0;34m\u001b[0m\u001b[0m\n\u001b[1;32m      9\u001b[0m         \u001b[0mguess\u001b[0m\u001b[0;34m=\u001b[0m\u001b[0mint\u001b[0m\u001b[0;34m(\u001b[0m\u001b[0minput\u001b[0m\u001b[0;34m(\u001b[0m\u001b[0;34m\"Enter your guess (0-9) or 'exit' to quit \"\u001b[0m\u001b[0;34m)\u001b[0m\u001b[0;34m)\u001b[0m\u001b[0;34m\u001b[0m\u001b[0;34m\u001b[0m\u001b[0m\n",
      "\u001b[0;31mTypeError\u001b[0m: '>' not supported between instances of 'str' and 'int'"
     ]
    }
   ],
   "source": [
    "import random \n",
    "guess=int(input(\"Enter your guess (0-9) or 'exit' to quit \"))\n",
    "num=random.randint(0, 9)\n",
    "trials=0\n",
    "while guess!=num: \n",
    "    trials+=1\n",
    "    if guess > num:\n",
    "        print(\"Guess too high, try again \")\n",
    "        guess=int(input(\"Enter your guess (0-9) or 'exit' to quit \"))\n",
    "          \n",
    "    if guess < num:\n",
    "            print(\"Guess too low, try again\")\n",
    "            guess=int(input(\"Enter your guess (0-9) or 'exit' to quit \"))  \n",
    "            \n",
    "    if guess==num:\n",
    "        trials+=1\n",
    "        print(\"Trials =\", trials)\n",
    "        print(\"The correct number is\", num)\n",
    "        print (\"Hurrreeeh..Exactly Right, pewa soda kwa bill yangu \")\n",
    "        \n",
    "    else:\n",
    "        guess=str(guess)\n",
    "        if guess == exit:\n",
    "            break\n",
    "    \n",
    "        "
   ]
  },
  {
   "cell_type": "code",
   "execution_count": 23,
   "metadata": {},
   "outputs": [
    {
     "ename": "NameError",
     "evalue": "name 'unlst' is not defined",
     "output_type": "error",
     "traceback": [
      "\u001b[0;31m---------------------------------------------------------------------------\u001b[0m",
      "\u001b[0;31mNameError\u001b[0m                                 Traceback (most recent call last)",
      "\u001b[0;32m<ipython-input-23-9f513d15e335>\u001b[0m in \u001b[0;36m<module>\u001b[0;34m\u001b[0m\n\u001b[1;32m      4\u001b[0m \u001b[0;34m\u001b[0m\u001b[0m\n\u001b[1;32m      5\u001b[0m     \u001b[0munlst\u001b[0m \u001b[0;34m=\u001b[0m \u001b[0mlist\u001b[0m\u001b[0;34m(\u001b[0m\u001b[0mset\u001b[0m\u001b[0;34m(\u001b[0m\u001b[0ma\u001b[0m\u001b[0;34m+\u001b[0m\u001b[0mb\u001b[0m\u001b[0;34m)\u001b[0m\u001b[0;34m)\u001b[0m\u001b[0;34m\u001b[0m\u001b[0;34m\u001b[0m\u001b[0m\n\u001b[0;32m----> 6\u001b[0;31m \u001b[0mprint\u001b[0m\u001b[0;34m(\u001b[0m\u001b[0munlst\u001b[0m\u001b[0;34m)\u001b[0m\u001b[0;34m\u001b[0m\u001b[0;34m\u001b[0m\u001b[0m\n\u001b[0m",
      "\u001b[0;31mNameError\u001b[0m: name 'unlst' is not defined"
     ]
    }
   ],
   "source": [
    "def uniquechecker():\n",
    "    a = [1, 1, 2, 3, 5, 8, 13, 21, 34, 55, 89]\n",
    "    b = [1, 2, 3, 4, 5, 6, 7, 8, 9, 10, 11, 12, 13]\n",
    "    unlst = list(set(a+b))\n",
    "print(unlst)"
   ]
  },
  {
   "cell_type": "code",
   "execution_count": 25,
   "metadata": {},
   "outputs": [],
   "source": [
    "uniquechecker()"
   ]
  },
  {
   "cell_type": "code",
   "execution_count": 26,
   "metadata": {},
   "outputs": [],
   "source": [
    "def primegen():\n",
    "    primerange=int(input(\"Enter the range of your numbers to be generated \"))\n",
    "    primelist=[]\n",
    "    for i in range (2,primerange):\n",
    "        primenum=True\n",
    "        for j in range (2,i):\n",
    "            if i %j ==0 :\n",
    "                primenum=False\n",
    "        if primenum:\n",
    "            primelist.append(i)\n",
    "            print(i, end=\",\")\n",
    "        "
   ]
  },
  {
   "cell_type": "code",
   "execution_count": 27,
   "metadata": {},
   "outputs": [
    {
     "name": "stdin",
     "output_type": "stream",
     "text": [
      "Enter the range of your numbers to be generated  52\n"
     ]
    },
    {
     "name": "stdout",
     "output_type": "stream",
     "text": [
      "2,3,5,7,11,13,17,19,23,29,31,37,41,43,47,"
     ]
    }
   ],
   "source": [
    "primegen()"
   ]
  },
  {
   "cell_type": "code",
   "execution_count": 29,
   "metadata": {},
   "outputs": [],
   "source": [
    "def primechecker():\n",
    "    number=int(input(\"Enter a number to be checked, \"))\n",
    "    if number > 1:\n",
    "        for i in range(2, number):\n",
    "            if (number % i) == 0:\n",
    "                print(number,\"is not a prime number \")\n",
    "                break\n",
    "        else:\n",
    "            print(number, \" is a prime number \")\n",
    "        "
   ]
  },
  {
   "cell_type": "code",
   "execution_count": 30,
   "metadata": {},
   "outputs": [
    {
     "name": "stdin",
     "output_type": "stream",
     "text": [
      "Enter a number to be checked,  23\n"
     ]
    },
    {
     "name": "stdout",
     "output_type": "stream",
     "text": [
      "23  is a prime number \n"
     ]
    }
   ],
   "source": [
    "primechecker()"
   ]
  },
  {
   "cell_type": "code",
   "execution_count": 36,
   "metadata": {},
   "outputs": [],
   "source": [
    "def passwordgen():\n",
    "    \"generates a random password \"\n",
    "    import random,string\n",
    "    \n",
    "    passlen=int(input(\"Enter the length of your password  \"))\n",
    "    if passlen > 8:\n",
    "        passwordchar= string.ascii_letters + string.digits  + string.punctuation\n",
    "        password=[]\n",
    "        for i in range (passlen):\n",
    "            password.append(random.choice(passwordchar))\n",
    "        print (''.join (password), end = \" \")\n",
    "        \n",
    "    else:\n",
    "        print (\"your password length should be  more than 8 characters \")\n",
    "    \n",
    "    \n",
    "    \n",
    "    "
   ]
  },
  {
   "cell_type": "code",
   "execution_count": 37,
   "metadata": {},
   "outputs": [
    {
     "name": "stdin",
     "output_type": "stream",
     "text": [
      "Enter the length of your password   5\n"
     ]
    },
    {
     "name": "stdout",
     "output_type": "stream",
     "text": [
      "your password length should be  more than 8 characters \n"
     ]
    }
   ],
   "source": [
    "passwordgen()"
   ]
  },
  {
   "cell_type": "code",
   "execution_count": 38,
   "metadata": {},
   "outputs": [],
   "source": [
    "mylist = [1, 2, 3, 4, 5, 6,1, 1, 2, 3, 5, 8, 13, 21, 34, 55, 89, 7, 8, 9, 10, 11, 12, 13]"
   ]
  },
  {
   "cell_type": "code",
   "execution_count": 39,
   "metadata": {},
   "outputs": [],
   "source": [
    "def listfilter(lst1):\n",
    "    #\"filters unique elements from a list \"\n",
    "    lstuniq=[]\n",
    "    for i in lst1:\n",
    "        if i not in lstuniq:\n",
    "            lstuniq.append(i)\n",
    "            \n",
    "\n",
    "    print(lstuniq, end=\" \")\n"
   ]
  },
  {
   "cell_type": "code",
   "execution_count": 40,
   "metadata": {},
   "outputs": [
    {
     "name": "stdout",
     "output_type": "stream",
     "text": [
      "[1, 2, 3, 4, 5, 6, 8, 13, 21, 34, 55, 89, 7, 9, 10, 11, 12] "
     ]
    }
   ],
   "source": [
    "listfilter(mylist)"
   ]
  },
  {
   "cell_type": "code",
   "execution_count": 41,
   "metadata": {},
   "outputs": [],
   "source": [
    "\n",
    "def setfilter(lst1):\n",
    "    #\"filters unique elements from a list \"\n",
    "    #\"groups the list into sets with unique objects/elements\"\n",
    "    lst1=list(set(lst1))\n",
    "    \n",
    "    print(lst1)"
   ]
  },
  {
   "cell_type": "code",
   "execution_count": 42,
   "metadata": {},
   "outputs": [
    {
     "name": "stdout",
     "output_type": "stream",
     "text": [
      "[1, 2, 3, 4, 5, 6, 34, 8, 7, 9, 10, 11, 13, 12, 21, 55, 89]\n"
     ]
    }
   ],
   "source": [
    "setfilter(mylist)"
   ]
  },
  {
   "cell_type": "code",
   "execution_count": 43,
   "metadata": {},
   "outputs": [],
   "source": [
    "\n",
    "def yearcalc():\n",
    "    \"calculates the year when you will turn hundred years from your current age \"\n",
    "    name=input(\"What's your name ? \")\n",
    "    age=int(input(\"What is your age now?  \"))\n",
    "    from datetime import datetime\n",
    "    laterage= int((100-age) + datetime.now().year)\n",
    "    print( name , \" you are \", age , \" years now , you will turn 100 yrs in \", laterage )\n",
    "    \n",
    "    "
   ]
  },
  {
   "cell_type": "code",
   "execution_count": 44,
   "metadata": {},
   "outputs": [
    {
     "name": "stdin",
     "output_type": "stream",
     "text": [
      "What's your name ?  fred\n",
      "What is your age now?   25\n"
     ]
    },
    {
     "name": "stdout",
     "output_type": "stream",
     "text": [
      "fred  you are  25  years now , you will turn 100 yrs in  2095\n"
     ]
    }
   ],
   "source": [
    "yearcalc()"
   ]
  },
  {
   "cell_type": "code",
   "execution_count": 427,
   "metadata": {},
   "outputs": [
    {
     "name": "stdin",
     "output_type": "stream",
     "text": [
      "Enter your string to be checked for palindrority !  KEBASO\n"
     ]
    },
    {
     "name": "stdout",
     "output_type": "stream",
     "text": [
      "KEBASO  is not palindromic \n"
     ]
    }
   ],
   "source": [
    "\n",
    "word = input(\"Enter your string to be checked for palindrority ! \")\n",
    "word2= word[::-1]\n",
    "if word2 == word:\n",
    "    print(word, \" is palindromic \")\n",
    "else:\n",
    "    print (word, \" is not palindromic \")"
   ]
  },
  {
   "cell_type": "code",
   "execution_count": 410,
   "metadata": {},
   "outputs": [
    {
     "name": "stdin",
     "output_type": "stream",
     "text": [
      "Enter your string to be checked for palindrolity !  kebaso\n"
     ]
    },
    {
     "name": "stdout",
     "output_type": "stream",
     "text": [
      "['kebaso']\n"
     ]
    }
   ],
   "source": []
  },
  {
   "cell_type": "code",
   "execution_count": null,
   "metadata": {},
   "outputs": [],
   "source": []
  }
 ],
 "metadata": {
  "kernelspec": {
   "display_name": "Python 3",
   "language": "python",
   "name": "python3"
  },
  "language_info": {
   "codemirror_mode": {
    "name": "ipython",
    "version": 3
   },
   "file_extension": ".py",
   "mimetype": "text/x-python",
   "name": "python",
   "nbconvert_exporter": "python",
   "pygments_lexer": "ipython3",
   "version": "3.8.5"
  }
 },
 "nbformat": 4,
 "nbformat_minor": 4
}
